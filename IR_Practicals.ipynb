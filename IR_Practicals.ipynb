{
  "cells": [
    {
      "cell_type": "markdown",
      "metadata": {
        "id": "1pxPHBUG9n9w"
      },
      "source": [
        "# Practical 1: Implementation of a basic document retrieval system using an inverted index in Python"
      ]
    },
    {
      "cell_type": "markdown",
      "metadata": {
        "id": "BAZDolsQBrNL"
      },
      "source": [
        "We will implement a document retrieval system using an Inverted Index. This system will:\n",
        "\n",
        "\n",
        "1. Index a set of documents by mapping each unique word to the documents that contain it.\n",
        "2. Allow users to enter search queries with one or more terms.\n",
        "3. Retrieve documents that contain all queried items efficiently."
      ]
    },
    {
      "cell_type": "code",
      "execution_count": null,
      "metadata": {
        "colab": {
          "base_uri": "https://localhost:8080/"
        },
        "id": "V3crlsYQ7EiV",
        "outputId": "a5442c7f-e819-4c70-f739-bb16601e35b2"
      },
      "outputs": [
        {
          "name": "stdout",
          "output_type": "stream",
          "text": [
            "Query: 'retrieval' -> Documents: [2, 3]\n",
            "Query: 'document indexing' -> Documents: [2]\n",
            "Query: 'web mining' -> Documents: [3]\n",
            "Query: 'structured data' -> Documents: [1]\n"
          ]
        }
      ],
      "source": [
        "from collections import defaultdict\n",
        "\n",
        "class InvertedIndex:\n",
        "    def __init__(self, documents):\n",
        "        self.documents = documents\n",
        "        self.index = defaultdict(set)\n",
        "        #Dictionary to store the inverted index\n",
        "        self.build_index()\n",
        "\n",
        "    def build_index(self):\n",
        "        for doc_id, text in self.documents.items():\n",
        "            #Convert text to lowercase and split into words\n",
        "            words = set(text.lower().split())\n",
        "\n",
        "            #Map the word to the document ID\n",
        "            for word in words:\n",
        "                self.index[word].add(doc_id)\n",
        "\n",
        "    def search(self, query):\n",
        "        # Convert query to lowercase and split\n",
        "        query_words = query.lower().split()\n",
        "        if not query_words:\n",
        "            #Return empty set if query is empty\n",
        "            return set()\n",
        "\n",
        "        #Retrieve the set of documents for each query word\n",
        "        result_sets = [self.index[word] for word in query_words if word in self.index]\n",
        "        if not result_sets:\n",
        "            return set()\n",
        "\n",
        "        #If none of the words are found, return an empty set\n",
        "        #Perform intersection to get documents containing all words\n",
        "        return set.intersection(*result_sets)\n",
        "\n",
        "#Sample Documents\n",
        "documents = {\n",
        "    1: \"Web Content extraction involves retrieving structured data\",\n",
        "    2: \"Search engines use document indexing for efficient retrieval\",\n",
        "    3: \"Document retrieval is important in web mining applications\",\n",
        "    4: \"Indexing helps in retrieving relevant documents based on query terms\"\n",
        "}\n",
        "\n",
        "#Create the inverted index\n",
        "index = InvertedIndex(documents)\n",
        "\n",
        "#Example search queries\n",
        "queries = [\"retrieval\", \"document indexing\", \"web mining\", \"structured data\"]\n",
        "\n",
        "for query in queries:\n",
        "    result = index.search(query)\n",
        "    print(f\"Query: '{query}' -> Documents: {sorted(result) if result else 'No Matching Documents'}\")"
      ]
    },
    {
      "cell_type": "markdown",
      "metadata": {
        "id": "ebwAv-exCVfr"
      },
      "source": [
        "Features of Inverted Index:\n",
        "1. Efficient Search - Finding relevant documents is faster using an index comapred to scanning all documents.\n",
        "2. Handles large datasets - Useful for search engines and text retrieval.\n",
        "3. Supports multi-word queries - Finds documents that contain all the words in a query."
      ]
    },
    {
      "cell_type": "markdown",
      "metadata": {
        "id": "0-fkHtkEBT-G"
      },
      "source": [
        "# Practical 2: Implementation of Retrieval Models (Boolean Model & Vector Space Model)"
      ]
    },
    {
      "cell_type": "code",
      "execution_count": null,
      "metadata": {
        "colab": {
          "base_uri": "https://localhost:8080/"
        },
        "id": "GofVJYXiBW4Q",
        "outputId": "17edb23a-d5cd-4004-ab40-37f073d33b8a"
      },
      "outputs": [
        {
          "name": "stdout",
          "output_type": "stream",
          "text": [
            "\n",
            "=== Boolean Retrieval Results ===\n",
            "Query: 'retrieval AND document' → Documents: [2, 3]\n",
            "Query: 'document OR indexing' → Documents: [2, 3, 4]\n",
            "Query: 'retrieval NOT indexing' → Documents: [3]\n",
            "\n",
            "=== Vector Space Model Results ===\n",
            "Query: 'document retrieval' → Ranked Documents: [(3, np.float64(0.4378)), (2, np.float64(0.4256))]\n",
            "Query: 'web mining' → Ranked Documents: [(3, np.float64(0.5)), (1, np.float64(0.1954))]\n",
            "Query: 'structured data' → Ranked Documents: [(1, np.float64(0.566))]\n"
          ]
        }
      ],
      "source": [
        "from collections import defaultdict\n",
        "import numpy as np\n",
        "from sklearn.feature_extraction.text import TfidfVectorizer\n",
        "\n",
        "class BooleanRetrieval:\n",
        "    def __init__(self, documents):\n",
        "        \"\"\"\n",
        "        Initializes the inverted index for Boolean Retrieval.\n",
        "        :param documents: A dictionary where keys are document IDs and values are document text.\n",
        "        \"\"\"\n",
        "        self.documents = documents\n",
        "        self.inverted_index = defaultdict(set)  #Dictionary to store the inverted index\n",
        "        self.build_index()\n",
        "\n",
        "    def build_index(self):\n",
        "        \"\"\"Builds the inverted index from the provided documents.\"\"\"\n",
        "        for doc_id, text in self.documents.items():\n",
        "            words = set(text.lower().split())  #Convert text to lowercase and split into words\n",
        "            for word in words:\n",
        "                self.inverted_index[word].add(doc_id)  #Map word to document ID\n",
        "\n",
        "    def boolean_search(self, query):\n",
        "        \"\"\"\n",
        "        Performs a Boolean search with AND, OR, and NOT operations.\n",
        "        :param query: A Boolean search query (e.g., \"retrieval AND document\").\n",
        "        :return: A set of document IDs matching the query.\n",
        "        \"\"\"\n",
        "        terms = query.lower().split()  #Convert query to lowercase and split\n",
        "        result_set = set(self.documents.keys())  #Start with all documents\n",
        "\n",
        "        operation = \"AND\"  #Default operation\n",
        "        for term in terms:\n",
        "            if term == \"and\":\n",
        "                operation = \"AND\"\n",
        "            elif term == \"or\":\n",
        "                operation = \"OR\"\n",
        "            elif term == \"not\":\n",
        "                operation = \"NOT\"\n",
        "            else:\n",
        "                if operation == \"AND\":\n",
        "                    result_set &= self.inverted_index.get(term, set())\n",
        "                elif operation == \"OR\":\n",
        "                    result_set |= self.inverted_index.get(term, set())\n",
        "                elif operation == \"NOT\":\n",
        "                    result_set -= self.inverted_index.get(term, set())\n",
        "\n",
        "        return result_set\n",
        "\n",
        "class VectorSpaceRetrieval:\n",
        "    def __init__(self, documents):\n",
        "        \"\"\"\n",
        "        Initializes the TF-IDF vectorization for document retrieval.\n",
        "        :param documents: A dictionary where keys are document IDs and values are document text.\n",
        "        \"\"\"\n",
        "        self.documents = documents\n",
        "        self.vectorizer = TfidfVectorizer()\n",
        "        self.doc_ids = list(documents.keys())\n",
        "        self.doc_vectors = self.vectorizer.fit_transform(documents.values())  #Compute TF-IDF vectors\n",
        "\n",
        "    def vector_search(self, query):\n",
        "        \"\"\"\n",
        "        Performs a vector space search using cosine similarity.\n",
        "        :param query: A text query.\n",
        "        :return: A list of (document ID, similarity score) sorted by relevance.\n",
        "        \"\"\"\n",
        "        query_vector = self.vectorizer.transform([query])  #Convert query to TF-IDF vector\n",
        "        similarities = np.dot(self.doc_vectors, query_vector.T).toarray().flatten()  #Compute cosine similarity\n",
        "        ranked_results = sorted(zip(self.doc_ids, similarities), key=lambda x: x[1], reverse=True)\n",
        "\n",
        "        return ranked_results\n",
        "\n",
        "#Sample documents\n",
        "documents = {\n",
        "    1: \"Web content extraction involves retrieving structured data\",\n",
        "    2: \"Search engines use document indexing for efficient retrieval\",\n",
        "    3: \"Document retrieval is important in web mining applications\",\n",
        "    4: \"Indexing helps in retrieving relevant documents based on query terms\"\n",
        "}\n",
        "\n",
        "#Boolean Retrieval System\n",
        "boolean_index = BooleanRetrieval(documents)\n",
        "boolean_queries = [\"retrieval AND document\", \"document OR indexing\", \"retrieval NOT indexing\"]\n",
        "\n",
        "print(\"\\n=== Boolean Retrieval Results ===\")\n",
        "for query in boolean_queries:\n",
        "    result = boolean_index.boolean_search(query)\n",
        "    print(f\"Query: '{query}' → Documents: {sorted(result) if result else 'No matching documents'}\")\n",
        "\n",
        "# Vector Space Retrieval System\n",
        "vector_index = VectorSpaceRetrieval(documents)\n",
        "vector_queries = [\"document retrieval\", \"web mining\", \"structured data\"]\n",
        "\n",
        "print(\"\\n=== Vector Space Model Results ===\")\n",
        "for query in vector_queries:\n",
        "    result = vector_index.vector_search(query)\n",
        "    print(f\"Query: '{query}' → Ranked Documents: {[(doc, round(score, 4)) for doc, score in result if score > 0]}\")"
      ]
    },
    {
      "cell_type": "markdown",
      "metadata": {
        "id": "jDz5wqGVFFgt"
      },
      "source": [
        "# Practical 3"
      ]
    },
    {
      "cell_type": "code",
      "execution_count": null,
      "metadata": {
        "colab": {
          "base_uri": "https://localhost:8080/"
        },
        "id": "TSCo0PkEFZ83",
        "outputId": "12c88159-06bc-428f-d220-3e65af17136f"
      },
      "outputs": [
        {
          "name": "stdout",
          "output_type": "stream",
          "text": [
            "\n",
            "=== Spelling Correction and Document Retrieval ===\n",
            "Corrected Query: retrieval\n",
            "Query: 'retrievel' → Corrected Documents: [2, 3]\n",
            "Corrected Query: document indexing\n",
            "Query: 'documnt indexing' → Corrected Documents: [2]\n",
            "Corrected Query: web mining\n",
            "Query: 'web minng' → Corrected Documents: [3]\n",
            "Corrected Query: structured data\n",
            "Query: 'strctured data' → Corrected Documents: [1]\n"
          ]
        }
      ],
      "source": [
        "from collections import defaultdict\n",
        "import numpy as np\n",
        "\n",
        "class InvertedIndex:\n",
        "    def __init__(self, documents):\n",
        "        \"\"\"\n",
        "        Initializes the inverted index with a given set of documents.\n",
        "        :param documents: A dictionary where keys are document IDs and values are document text.\n",
        "        \"\"\"\n",
        "        self.documents = documents\n",
        "        self.index = defaultdict(set)  # Dictionary to store the inverted index\n",
        "        self.vocabulary = set()  # Stores unique words for spell correction\n",
        "        self.build_index()\n",
        "\n",
        "    def build_index(self):\n",
        "        \"\"\"Builds the inverted index from the provided documents.\"\"\"\n",
        "        for doc_id, text in self.documents.items():\n",
        "            words = set(text.lower().split()) # Convert text to lowercase and split into words\n",
        "            self.vocabulary.update(words)  # Store words for spell correction\n",
        "            for word in words:\n",
        "                self.index[word].add(doc_id)  # Map the word to the document ID\n",
        "\n",
        "    def search(self, query):\n",
        "        \"\"\"\n",
        "        Searches for documents containing words in the query.\n",
        "        :param query: A user query string containing potentially misspelled words.\n",
        "        :return: A set of document IDs matching the corrected query words.\n",
        "        \"\"\"\n",
        "        corrected_words = [self.correct_spelling(word) for word in query.lower().split()]\n",
        "        print(f\"Corrected Query: {' '.join(corrected_words)}\")\n",
        "\n",
        "        result_sets = [self.index[word] for word in corrected_words if word in self.index]\n",
        "\n",
        "        if not result_sets:\n",
        "            return set()  # If none of the words are found, return empty set\n",
        "\n",
        "        return set.intersection(*result_sets)  # Find common documents for all words\n",
        "\n",
        "    def correct_spelling(self, word):\n",
        "        \"\"\"\n",
        "        Corrects the spelling of a given word using the Levenshtein Distance.\n",
        "\n",
        "        :param word: The potentially misspelled word.\n",
        "        :return: The closest matching word from the vocabulary.\n",
        "        \"\"\"\n",
        "        min_distance = float('inf')\n",
        "        best_match = word  # Default to original word if no close match is found\n",
        "\n",
        "        for vocab_word in self.vocabulary:\n",
        "            distance = self.levenshtein_distance(word, vocab_word)\n",
        "            if distance < min_distance:\n",
        "                min_distance = distance\n",
        "                best_match = vocab_word  # Update best match if a closer word is found\n",
        "\n",
        "        return best_match\n",
        "\n",
        "    def levenshtein_distance(self, s1, s2):\n",
        "        \"\"\"\n",
        "        Computes the Levenshtein Distance between two words.\n",
        "\n",
        "        :param s1: First word.\n",
        "        :param s2: Second word.\n",
        "        :return: The edit distance between the two words.\n",
        "        \"\"\"\n",
        "        len_s1, len_s2 = len(s1), len(s2)\n",
        "        dp = np.zeros((len_s1 + 1, len_s2 + 1), dtype=int)\n",
        "\n",
        "        for i in range(len_s1 + 1):\n",
        "            for j in range(len_s2 + 1):\n",
        "                if i == 0:\n",
        "                    dp[i][j] = j\n",
        "                elif j == 0:\n",
        "                    dp[i][j] = i\n",
        "                elif s1[i - 1] == s2[j - 1]:\n",
        "                    dp[i][j] = dp[i - 1][j - 1]\n",
        "                else:\n",
        "                    dp[i][j] = 1 + min(dp[i - 1][j], # Deletion\n",
        "                                        dp[i][j - 1],  # Insertion\n",
        "                                        dp[i - 1][j - 1])  # Substitution\n",
        "\n",
        "        return dp[len_s1][len_s2]\n",
        "\n",
        "# Sample documents\n",
        "documents = {\n",
        "   1: \"Web content extraction involves retrieving structured data\",\n",
        "   2: \"Search engines use document indexing for efficient retrieval\",\n",
        "   3: \"Document retrieval is important in web mining applications\",\n",
        "   4: \"Indexing helps in retrieving relevant documents based on query terms\"\n",
        "}\n",
        "\n",
        "# Create the inverted index\n",
        "index = InvertedIndex(documents)\n",
        "\n",
        "# Example search queries with misspelled words\n",
        "queries = [\"retrievel\", \"documnt indexing\", \"web minng\", \"strctured data\"]\n",
        "\n",
        "print(\"\\n=== Spelling Correction and Document Retrieval ===\")\n",
        "for query in queries:\n",
        "   result = index.search(query)\n",
        "   print(f\"Query: '{query}' → Corrected Documents: {sorted(result) if result else 'No matching documents'}\")"
      ]
    },
    {
      "cell_type": "markdown",
      "metadata": {
        "id": "yym7-OxpFkI9"
      },
      "source": [
        "# Practical 4"
      ]
    },
    {
      "cell_type": "code",
      "execution_count": null,
      "metadata": {
        "colab": {
          "base_uri": "https://localhost:8080/"
        },
        "id": "HGc9NNK6Fp_d",
        "outputId": "f7936f0f-eee5-4591-ac17-787b097ec58f"
      },
      "outputs": [
        {
          "name": "stdout",
          "output_type": "stream",
          "text": [
            "\n",
            "=== Evaluation Metrics for Information Retrieval ===\n",
            "True Positives (TP): 3\n",
            "False Positives (FP): 2\n",
            "False Negatives (FN): 2\n",
            "Precision: 0.6000\n",
            "Recall: 0.6000\n",
            "F1-Score: 0.6000\n"
          ]
        }
      ],
      "source": [
        "def calculate_precision(tp, fp):\n",
        "    \"\"\"\n",
        "    Calculates Precision: Precision = TP / (TP + FP)\n",
        "    :param tp: True Positives (correctly retrieved relevant documents)\n",
        "    :param fp: False Positives (incorrectly retrieved non-relevant documents)\n",
        "    :return: Precision value\n",
        "    \"\"\"\n",
        "    if tp + fp == 0:\n",
        "        return 0.0  # Avoid division by zero\n",
        "    return tp / (tp + fp)\n",
        "\n",
        "def calculate_recall(tp, fn):\n",
        "    \"\"\"\n",
        "    Calculates Recall: Recall = TP / (TP + FN)\n",
        "    :param tp: True Positives (correctly retrieved relevant documents)\n",
        "    :param fn: False Negatives (relevant documents not retrieved)\n",
        "    :return: Recall value\n",
        "    \"\"\"\n",
        "    if tp + fn == 0:\n",
        "        return 0.0  # Avoid division by zero\n",
        "    return tp / (tp + fn)\n",
        "\n",
        "def calculate_f1_score(precision, recall):\n",
        "    \"\"\"\n",
        "    Calculates F1-Score: F1 = 2 * (Precision * Recall) / (Precision + Recall)\n",
        "\n",
        "    :param precision: Calculated Precision value\n",
        "    :param recall: Calculated Recall value\n",
        "    :return: F1-Score value\n",
        "    \"\"\"\n",
        "    if precision + recall == 0:\n",
        "        return 0.0  # Avoid division by zero\n",
        "    return 2 * (precision * recall) / (precision + recall)\n",
        "\n",
        "def evaluate_retrieval(relevant_docs, retrieved_docs):\n",
        "    \"\"\"\n",
        "    Evaluates the retrieval performance by calculating TP, FP, and FN.\n",
        "    :param relevant_docs: A set of relevant document IDs (ground truth)\n",
        "    :param retrieved_docs: A set of document IDs retrieved by the IR system\n",
        "    :return: Computed Precision, Recall, and F1-score\n",
        "    \"\"\"\n",
        "    tp = len(relevant_docs & retrieved_docs)  # True Positives (Correctly retrieved relevant docs)\n",
        "    fp = len(retrieved_docs - relevant_docs)  # False Positives (Retrieved but not relevant)\n",
        "    fn = len(relevant_docs - retrieved_docs)  # False Negatives (Relevant but not retrieved)\n",
        "\n",
        "    # Calculate metrics\n",
        "    precision = calculate_precision(tp, fp)\n",
        "    recall = calculate_recall(tp, fn)\n",
        "    f1_score = calculate_f1_score(precision, recall)\n",
        "\n",
        "    return tp, fp, fn, precision, recall, f1_score\n",
        "\n",
        "# Example Data: Ground Truth & Retrieved Documents\n",
        "relevant_documents = {1, 2, 3, 5, 7}  # Actual relevant document IDs\n",
        "retrieved_documents = {1, 2, 4, 5, 6}  # Documents retrieved by the IR system\n",
        "\n",
        "# Compute evaluation metrics\n",
        "tp, fp, fn, precision, recall, f1_score = evaluate_retrieval(relevant_documents, retrieved_documents)\n",
        "\n",
        "# Display Results\n",
        "print(\"\\n=== Evaluation Metrics for Information Retrieval ===\")\n",
        "print(f\"True Positives (TP): {tp}\")\n",
        "print(f\"False Positives (FP): {fp}\")\n",
        "print(f\"False Negatives (FN): {fn}\")\n",
        "print(f\"Precision: {precision:.4f}\")\n",
        "print(f\"Recall: {recall:.4f}\")\n",
        "print(f\"F1-Score: {f1_score:.4f}\")"
      ]
    },
    {
      "cell_type": "markdown",
      "metadata": {
        "id": "ZzWmGS5fFv78"
      },
      "source": [
        "# Practical 5"
      ]
    },
    {
      "cell_type": "code",
      "execution_count": null,
      "metadata": {
        "colab": {
          "base_uri": "https://localhost:8080/"
        },
        "id": "z17QtX67Fx_w",
        "outputId": "2691ac8a-7498-4c83-d4ea-62c20198897c"
      },
      "outputs": [
        {
          "name": "stdout",
          "output_type": "stream",
          "text": [
            "\n",
            "=== Naïve Bayes Classifier Performance ===\n",
            "Accuracy: 0.9069\n",
            "Classification Report:\n",
            "                  precision    recall  f1-score   support\n",
            "\n",
            "    alt.atheism       0.97      0.84      0.90       174\n",
            "rec.motorcycles       0.94      0.93      0.93       192\n",
            "  comp.graphics       0.84      0.96      0.90       186\n",
            "        sci.med       0.90      0.90      0.90       200\n",
            "\n",
            "       accuracy                           0.91       752\n",
            "      macro avg       0.91      0.91      0.91       752\n",
            "   weighted avg       0.91      0.91      0.91       752\n",
            "\n",
            "\n",
            "=== Support Vector Machine (SVM) Classifier Performance ===\n",
            "Accuracy: 0.9029\n",
            "Classification Report:\n",
            "                  precision    recall  f1-score   support\n",
            "\n",
            "    alt.atheism       0.95      0.84      0.89       174\n",
            "rec.motorcycles       0.99      0.90      0.94       192\n",
            "  comp.graphics       0.81      0.95      0.87       186\n",
            "        sci.med       0.89      0.92      0.90       200\n",
            "\n",
            "       accuracy                           0.90       752\n",
            "      macro avg       0.91      0.90      0.90       752\n",
            "   weighted avg       0.91      0.90      0.90       752\n",
            "\n",
            "\n",
            "=== Naïve Bayes Classifier Performance ===\n",
            "Accuracy: 0.9069\n",
            "Classification Report:\n",
            "                  precision    recall  f1-score   support\n",
            "\n",
            "    alt.atheism       0.97      0.84      0.90       174\n",
            "rec.motorcycles       0.94      0.93      0.93       192\n",
            "  comp.graphics       0.84      0.96      0.90       186\n",
            "        sci.med       0.90      0.90      0.90       200\n",
            "\n",
            "       accuracy                           0.91       752\n",
            "      macro avg       0.91      0.91      0.91       752\n",
            "   weighted avg       0.91      0.91      0.91       752\n",
            "\n",
            "\n",
            "=== Support Vector Machine (SVM) Classifier Performance ===\n",
            "Accuracy: 0.9029\n",
            "Classification Report:\n",
            "                  precision    recall  f1-score   support\n",
            "\n",
            "    alt.atheism       0.95      0.84      0.89       174\n",
            "rec.motorcycles       0.99      0.90      0.94       192\n",
            "  comp.graphics       0.81      0.95      0.87       186\n",
            "        sci.med       0.89      0.92      0.90       200\n",
            "\n",
            "       accuracy                           0.90       752\n",
            "      macro avg       0.91      0.90      0.90       752\n",
            "   weighted avg       0.91      0.90      0.90       752\n",
            "\n"
          ]
        }
      ],
      "source": [
        "# Import necessary libraries\n",
        "import numpy as np\n",
        "from sklearn.datasets import fetch_20newsgroups # Import 20 Newsgroups dataset\n",
        "from sklearn.feature_extraction.text import TfidfVectorizer  # Convert text to TF-IDF vectors\n",
        "from sklearn.model_selection import train_test_split  # Split data into training and test sets\n",
        "from sklearn.naive_bayes import MultinomialNB  # Naïve Bayes Classifier\n",
        "from sklearn.svm import SVC  # Support Vector Machine Classifier\n",
        "from sklearn.metrics import accuracy_score, classification_report  # Model evaluation metrics\n",
        "\n",
        "# Load the 20 Newsgroups dataset\n",
        "categories = ['alt.atheism', 'rec.motorcycles', 'comp.graphics', 'sci.med']\n",
        "newsgroups = fetch_20newsgroups(subset='all', categories=categories, remove=('headers', 'footers', 'quotes'))\n",
        "\n",
        "# Convert text data to numerical features using TF-IDF\n",
        "vectorizer = TfidfVectorizer(stop_words='english')  # Remove common English stop words\n",
        "X = vectorizer.fit_transform(newsgroups.data) # Transform text into TF-IDF features\n",
        "y = newsgroups.target  # Get category labels\n",
        "\n",
        "# Split dataset into training (80%) and testing (20%) sets\n",
        "X_train, X_test, y_train, y_test = train_test_split(X, y, test_size=0.2, random_state=42)\n",
        "\n",
        "# Train and evaluate Naïve Bayes classifier\n",
        "nb_classifier = MultinomialNB()\n",
        "nb_classifier.fit(X_train, y_train)\n",
        "y_pred_nb = nb_classifier.predict(X_test)\n",
        "\n",
        "# Train and evaluate SVM classifier\n",
        "svm_classifier = SVC(kernel='linear')  # Linear kernel for text classification\n",
        "svm_classifier.fit(X_train, y_train)\n",
        "y_pred_svm = svm_classifier.predict(X_test)\n",
        "\n",
        "# Print evaluation results\n",
        "print(\"\\n=== Naïve Bayes Classifier Performance ===\")\n",
        "print(f\"Accuracy: {accuracy_score(y_test, y_pred_nb):.4f}\")\n",
        "print(\"Classification Report:\\n\", classification_report(y_test, y_pred_nb, target_names=categories))\n",
        "\n",
        "print(\"\\n=== Support Vector Machine (SVM) Classifier Performance ===\")\n",
        "print(f\"Accuracy: {accuracy_score(y_test, y_pred_svm):.4f}\")\n",
        "print(\"Classification Report:\\n\", classification_report(y_test, y_pred_svm, target_names=categories))\n",
        "\n",
        "# Import necessary libraries\n",
        "import numpy as np\n",
        "from sklearn.datasets import fetch_20newsgroups # Import 20 Newsgroups dataset\n",
        "from sklearn.feature_extraction.text import TfidfVectorizer  # Convert text to TF-IDF vectors\n",
        "from sklearn.model_selection import train_test_split  # Split data into training and test sets\n",
        "from sklearn.naive_bayes import MultinomialNB  # Naïve Bayes Classifier\n",
        "from sklearn.svm import SVC  # Support Vector Machine Classifier\n",
        "from sklearn.metrics import accuracy_score, classification_report  # Model evaluation metrics\n",
        "\n",
        "# Load the 20 Newsgroups dataset\n",
        "categories = ['alt.atheism', 'rec.motorcycles', 'comp.graphics', 'sci.med']\n",
        "newsgroups = fetch_20newsgroups(subset='all', categories=categories, remove=('headers', 'footers', 'quotes'))\n",
        "\n",
        "# Convert text data to numerical features using TF-IDF\n",
        "vectorizer = TfidfVectorizer(stop_words='english')  # Remove common English stop words\n",
        "X = vectorizer.fit_transform(newsgroups.data) # Transform text into TF-IDF features\n",
        "y = newsgroups.target  # Get category labels\n",
        "\n",
        "# Split dataset into training (80%) and testing (20%) sets\n",
        "X_train, X_test, y_train, y_test = train_test_split(X, y, test_size=0.2, random_state=42)\n",
        "\n",
        "# Train and evaluate Naïve Bayes classifier\n",
        "nb_classifier = MultinomialNB()\n",
        "nb_classifier.fit(X_train, y_train)\n",
        "y_pred_nb = nb_classifier.predict(X_test)\n",
        "\n",
        "# Train and evaluate SVM classifier\n",
        "svm_classifier = SVC(kernel='linear')  # Linear kernel for text classification\n",
        "svm_classifier.fit(X_train, y_train)\n",
        "y_pred_svm = svm_classifier.predict(X_test)\n",
        "\n",
        "# Print evaluation results\n",
        "print(\"\\n=== Naïve Bayes Classifier Performance ===\")\n",
        "print(f\"Accuracy: {accuracy_score(y_test, y_pred_nb):.4f}\")\n",
        "print(\"Classification Report:\\n\", classification_report(y_test, y_pred_nb, target_names=categories))\n",
        "\n",
        "print(\"\\n=== Support Vector Machine (SVM) Classifier Performance ===\")\n",
        "print(f\"Accuracy: {accuracy_score(y_test, y_pred_svm):.4f}\")\n",
        "print(\"Classification Report:\\n\", classification_report(y_test, y_pred_svm, target_names=categories))"
      ]
    },
    {
      "cell_type": "markdown",
      "metadata": {
        "id": "C7d9zEpcF9Sn"
      },
      "source": [
        "# Practical 6: Clustering for Information Retrieval Using K-Means & Hierarchical Clustering"
      ]
    },
    {
      "cell_type": "code",
      "execution_count": null,
      "metadata": {
        "colab": {
          "base_uri": "https://localhost:8080/",
          "height": 604
        },
        "id": "zw_jXGHKF_bC",
        "outputId": "ca078feb-8256-4b07-d20b-34988645b2a3"
      },
      "outputs": [
        {
          "name": "stdout",
          "output_type": "stream",
          "text": [
            "\n",
            "=== K-Means Clustering Results ===\n",
            "Number of Clusters: 4\n",
            "Silhouette Score: 0.0154\n"
          ]
        },
        {
          "data": {
            "image/png": "[encoded data removed]",
            "text/plain": [
              "<Figure size 1000x500 with 1 Axes>"
            ]
          },
          "metadata": {},
          "output_type": "display_data"
        },
        {
          "name": "stdout",
          "output_type": "stream",
          "text": [
            "\n",
            "=== Hierarchical Clustering Results ===\n",
            "Number of Clusters: 4\n"
          ]
        }
      ],
      "source": [
        "# Import necessary libraries\n",
        "import numpy as np\n",
        "import matplotlib.pyplot as plt\n",
        "import seaborn as sns\n",
        "from sklearn.datasets import fetch_20newsgroups  # Load 20 Newsgroups dataset\n",
        "from sklearn.feature_extraction.text import TfidfVectorizer  # Convert text to TF-IDF features\n",
        "from sklearn.cluster import KMeans, AgglomerativeClustering  # K-Means & Hierarchical clustering\n",
        "from sklearn.metrics import silhouette_score  # Evaluate clustering performance\n",
        "from scipy.cluster.hierarchy import dendrogram, linkage  # Hierarchical clustering visualization\n",
        "\n",
        "# Load a subset of 20 Newsgroups dataset (4 categories for simplicity)\n",
        "categories = ['alt.atheism', 'soc.religion.christian', 'comp.graphics', 'sci.med']\n",
        "newsgroups = fetch_20newsgroups(subset='all', categories=categories, remove=('headers', 'footers', 'quotes'))\n",
        "\n",
        "# Convert text data into numerical format using TF-IDF vectorization\n",
        "vectorizer = TfidfVectorizer(stop_words='english', max_features=1000)  # Limit features for efficiency\n",
        "X = vectorizer.fit_transform(newsgroups.data)  # Transform text into TF-IDF vectors\n",
        "\n",
        "# ---------------- K-MEANS CLUSTERING ----------------\n",
        "# Define number of clusters (same as number of categories)\n",
        "num_clusters = len(categories)\n",
        "\n",
        "# Perform K-Means clustering\n",
        "kmeans = KMeans(n_clusters=num_clusters, random_state=42, n_init=10)\n",
        "kmeans_labels = kmeans.fit_predict(X)  # Assign clusters\n",
        "\n",
        "# Compute silhouette score to evaluate clustering performance\n",
        "silhouette_avg = silhouette_score(X, kmeans_labels)\n",
        "\n",
        "# Display K-Means results\n",
        "print(\"\\n=== K-Means Clustering Results ===\")\n",
        "print(f\"Number of Clusters: {num_clusters}\")\n",
        "print(f\"Silhouette Score: {silhouette_avg:.4f}\")\n",
        "\n",
        "# ---------------- HIERARCHICAL CLUSTERING ----------------\n",
        "# Perform Agglomerative Hierarchical clustering\n",
        "hierarchical = AgglomerativeClustering(n_clusters=num_clusters, linkage='ward') # Remove affinity parameter\n",
        "hierarchical_labels = hierarchical.fit_predict(X.toarray())  # Convert sparse matrix to array\n",
        "\n",
        "# Plot dendrogram for hierarchical clustering\n",
        "plt.figure(figsize=(10, 5))\n",
        "plt.title(\"Hierarchical Clustering Dendrogram\")\n",
        "Z = linkage(X.toarray(), method='ward')  # Compute hierarchical clustering linkage matrix\n",
        "dendrogram(Z, truncate_mode=\"level\", p=10)  # Visualize only first few levels\n",
        "plt.show()\n",
        "\n",
        "# Display Hierarchical clustering results\n",
        "print(\"\\n=== Hierarchical Clustering Results ===\")\n",
        "print(f\"Number of Clusters: {num_clusters}\")"
      ]
    },
    {
      "cell_type": "markdown",
      "metadata": {
        "id": "Qi0WPAsIGIzV"
      },
      "source": [
        "# Practical 7: Page Ranking Algorithm"
      ]
    },
    {
      "cell_type": "code",
      "execution_count": null,
      "metadata": {
        "colab": {
          "base_uri": "https://localhost:8080/"
        },
        "id": "qCQqeDV9GO_Y",
        "outputId": "4d3933c4-8e65-4f42-b11d-245504028fe0"
      },
      "outputs": [
        {
          "name": "stdout",
          "output_type": "stream",
          "text": [
            "\n",
            "=== PageRank Scores ===\n",
            "Page C: 0.394149\n",
            "Page A: 0.372526\n",
            "Page B: 0.195824\n",
            "Page D: 0.037500\n"
          ]
        }
      ],
      "source": [
        "import numpy as np\n",
        "\n",
        "def initialize_pagerank(graph):\n",
        "   \n",
        "    num_nodes = len(graph)\n",
        "    return {node: 1 / num_nodes for node in graph}  # All nodes start with equal probability\n",
        "\n",
        "def compute_pagerank(graph, damping_factor=0.85, max_iterations=100, tolerance=1e-6):\n",
        "    \n",
        "    num_nodes = len(graph)\n",
        "    pagerank = initialize_pagerank(graph)  # Initialize PR values\n",
        "    new_pagerank = pagerank.copy()\n",
        "\n",
        "    for _ in range(max_iterations):\n",
        "        for node in graph:\n",
        "            # Calculate new PR value using the PageRank formula\n",
        "            new_pagerank[node] = (1 - damping_factor) / num_nodes + damping_factor * sum(\n",
        "                pagerank[incoming] / len(graph[incoming]) for incoming in graph if node in graph[incoming]\n",
        "            )\n",
        "\n",
        "        # Check convergence (if the change in values is below tolerance, stop iterating)\n",
        "        if all(abs(new_pagerank[node] - pagerank[node]) < tolerance for node in pagerank):\n",
        "            break\n",
        "        pagerank = new_pagerank.copy()  # Update PR values\n",
        "\n",
        "    return pagerank\n",
        "\n",
        "# ---------------- EXAMPLE DATASET (Web Graph) ----------------\n",
        "# Representation of a small web graph as an adjacency list\n",
        "web_graph = {\n",
        "    'A': {'B', 'C'},\n",
        "    'B': {'C'},\n",
        "    'C': {'A'},\n",
        "    'D': {'C'}\n",
        "}\n",
        "\n",
        "# Compute PageRank\n",
        "pagerank_scores = compute_pagerank(web_graph)\n",
        "\n",
        "# Display Results\n",
        "print(\"\\n=== PageRank Scores ===\")\n",
        "for page, score in sorted(pagerank_scores.items(), key=lambda x: x[1], reverse=True):\n",
        "    print(f\"Page {page}: {score:.6f}\")"
      ]
    }
  ],
  "metadata": {
    "colab": {
      "provenance": []
    },
    "kernelspec": {
      "display_name": "Python 3",
      "name": "python3"
    },
    "language_info": {
      "name": "python"
    }
  },
  "nbformat": 4,
  "nbformat_minor": 0
}
